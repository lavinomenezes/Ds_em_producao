{
 "cells": [
  {
   "cell_type": "markdown",
   "metadata": {},
   "source": [
    "# imports"
   ]
  },
  {
   "cell_type": "code",
   "execution_count": 2,
   "metadata": {
    "ExecuteTime": {
     "end_time": "2022-07-14T18:13:15.004906Z",
     "start_time": "2022-07-14T18:13:08.520065Z"
    }
   },
   "outputs": [],
   "source": [
    "import pandas as pd\n",
    "import numpy as np\n",
    "import inflection\n",
    "import math\n",
    "import seaborn as sns\n",
    "import datetime\n",
    "import xgboost as xgb\n",
    "import random\n",
    "import warnings\n",
    "import pickle\n",
    "from matplotlib import pyplot as plt\n",
    "from IPython.core.display import HTML\n",
    "from IPython.display import Image\n",
    "from sklearn.ensemble import RandomForestRegressor\n",
    "from sklearn.linear_model import LinearRegression, Lasso\n",
    "from sklearn.metrics import mean_absolute_error, mean_absolute_percentage_error, mean_squared_error"
   ]
  },
  {
   "cell_type": "markdown",
   "metadata": {},
   "source": [
    "## helper functions"
   ]
  },
  {
   "cell_type": "code",
   "execution_count": 20,
   "metadata": {
    "ExecuteTime": {
     "end_time": "2022-07-14T18:52:25.076593Z",
     "start_time": "2022-07-14T18:52:25.048665Z"
    }
   },
   "outputs": [
    {
     "name": "stdout",
     "output_type": "stream",
     "text": [
      "Populating the interactive namespace from numpy and matplotlib\n"
     ]
    },
    {
     "data": {
      "text/html": [
       "<style>.container { width:100% !important; }</style>"
      ],
      "text/plain": [
       "<IPython.core.display.HTML object>"
      ]
     },
     "metadata": {},
     "output_type": "display_data"
    }
   ],
   "source": [
    "def jupyter_settings():\n",
    "    %matplotlib inline\n",
    "    %pylab inline\n",
    "    plt.style.use( 'bmh' )\n",
    "    plt.rcParams['figure.figsize'] = [25, 12]\n",
    "    plt.rcParams['font.size'] = 24\n",
    "    display( HTML( '<style>.container { width:100% !important; }</style>') )\n",
    "    sns.set()\n",
    "jupyter_settings()"
   ]
  },
  {
   "cell_type": "markdown",
   "metadata": {},
   "source": [
    "# load data"
   ]
  },
  {
   "cell_type": "code",
   "execution_count": 4,
   "metadata": {
    "ExecuteTime": {
     "end_time": "2022-07-14T18:13:21.780211Z",
     "start_time": "2022-07-14T18:13:21.662527Z"
    }
   },
   "outputs": [],
   "source": [
    "data_store = pd.read_csv('data/rossmann-store-sales/store.csv',low_memory=False)\n",
    "data_test = pd.read_csv('data/rossmann-store-sales/test.csv',low_memory=False)"
   ]
  },
  {
   "cell_type": "code",
   "execution_count": 5,
   "metadata": {
    "ExecuteTime": {
     "end_time": "2022-07-14T18:13:31.415999Z",
     "start_time": "2022-07-14T18:13:31.350618Z"
    },
    "scrolled": true
   },
   "outputs": [
    {
     "data": {
      "text/html": [
       "<div>\n",
       "<style scoped>\n",
       "    .dataframe tbody tr th:only-of-type {\n",
       "        vertical-align: middle;\n",
       "    }\n",
       "\n",
       "    .dataframe tbody tr th {\n",
       "        vertical-align: top;\n",
       "    }\n",
       "\n",
       "    .dataframe thead th {\n",
       "        text-align: right;\n",
       "    }\n",
       "</style>\n",
       "<table border=\"1\" class=\"dataframe\">\n",
       "  <thead>\n",
       "    <tr style=\"text-align: right;\">\n",
       "      <th></th>\n",
       "      <th>Store</th>\n",
       "      <th>StoreType</th>\n",
       "      <th>Assortment</th>\n",
       "      <th>CompetitionDistance</th>\n",
       "      <th>CompetitionOpenSinceMonth</th>\n",
       "      <th>CompetitionOpenSinceYear</th>\n",
       "      <th>Promo2</th>\n",
       "      <th>Promo2SinceWeek</th>\n",
       "      <th>Promo2SinceYear</th>\n",
       "      <th>PromoInterval</th>\n",
       "    </tr>\n",
       "  </thead>\n",
       "  <tbody>\n",
       "    <tr>\n",
       "      <th>0</th>\n",
       "      <td>1</td>\n",
       "      <td>c</td>\n",
       "      <td>a</td>\n",
       "      <td>1270.0</td>\n",
       "      <td>9.0</td>\n",
       "      <td>2008.0</td>\n",
       "      <td>0</td>\n",
       "      <td>NaN</td>\n",
       "      <td>NaN</td>\n",
       "      <td>NaN</td>\n",
       "    </tr>\n",
       "    <tr>\n",
       "      <th>1</th>\n",
       "      <td>2</td>\n",
       "      <td>a</td>\n",
       "      <td>a</td>\n",
       "      <td>570.0</td>\n",
       "      <td>11.0</td>\n",
       "      <td>2007.0</td>\n",
       "      <td>1</td>\n",
       "      <td>13.0</td>\n",
       "      <td>2010.0</td>\n",
       "      <td>Jan,Apr,Jul,Oct</td>\n",
       "    </tr>\n",
       "    <tr>\n",
       "      <th>2</th>\n",
       "      <td>3</td>\n",
       "      <td>a</td>\n",
       "      <td>a</td>\n",
       "      <td>14130.0</td>\n",
       "      <td>12.0</td>\n",
       "      <td>2006.0</td>\n",
       "      <td>1</td>\n",
       "      <td>14.0</td>\n",
       "      <td>2011.0</td>\n",
       "      <td>Jan,Apr,Jul,Oct</td>\n",
       "    </tr>\n",
       "    <tr>\n",
       "      <th>3</th>\n",
       "      <td>4</td>\n",
       "      <td>c</td>\n",
       "      <td>c</td>\n",
       "      <td>620.0</td>\n",
       "      <td>9.0</td>\n",
       "      <td>2009.0</td>\n",
       "      <td>0</td>\n",
       "      <td>NaN</td>\n",
       "      <td>NaN</td>\n",
       "      <td>NaN</td>\n",
       "    </tr>\n",
       "    <tr>\n",
       "      <th>4</th>\n",
       "      <td>5</td>\n",
       "      <td>a</td>\n",
       "      <td>a</td>\n",
       "      <td>29910.0</td>\n",
       "      <td>4.0</td>\n",
       "      <td>2015.0</td>\n",
       "      <td>0</td>\n",
       "      <td>NaN</td>\n",
       "      <td>NaN</td>\n",
       "      <td>NaN</td>\n",
       "    </tr>\n",
       "  </tbody>\n",
       "</table>\n",
       "</div>"
      ],
      "text/plain": [
       "   Store StoreType Assortment  CompetitionDistance  CompetitionOpenSinceMonth  \\\n",
       "0      1         c          a               1270.0                        9.0   \n",
       "1      2         a          a                570.0                       11.0   \n",
       "2      3         a          a              14130.0                       12.0   \n",
       "3      4         c          c                620.0                        9.0   \n",
       "4      5         a          a              29910.0                        4.0   \n",
       "\n",
       "   CompetitionOpenSinceYear  Promo2  Promo2SinceWeek  Promo2SinceYear  \\\n",
       "0                    2008.0       0              NaN              NaN   \n",
       "1                    2007.0       1             13.0           2010.0   \n",
       "2                    2006.0       1             14.0           2011.0   \n",
       "3                    2009.0       0              NaN              NaN   \n",
       "4                    2015.0       0              NaN              NaN   \n",
       "\n",
       "     PromoInterval  \n",
       "0              NaN  \n",
       "1  Jan,Apr,Jul,Oct  \n",
       "2  Jan,Apr,Jul,Oct  \n",
       "3              NaN  \n",
       "4              NaN  "
      ]
     },
     "execution_count": 5,
     "metadata": {},
     "output_type": "execute_result"
    }
   ],
   "source": [
    "data_store.head()"
   ]
  },
  {
   "cell_type": "code",
   "execution_count": 8,
   "metadata": {
    "ExecuteTime": {
     "end_time": "2022-07-14T18:14:04.516900Z",
     "start_time": "2022-07-14T18:14:04.507885Z"
    },
    "scrolled": false
   },
   "outputs": [
    {
     "data": {
      "text/plain": [
       "(1115, 10)"
      ]
     },
     "execution_count": 8,
     "metadata": {},
     "output_type": "execute_result"
    }
   ],
   "source": [
    "data_store.shape"
   ]
  },
  {
   "cell_type": "code",
   "execution_count": 13,
   "metadata": {
    "ExecuteTime": {
     "end_time": "2022-07-14T18:15:06.975726Z",
     "start_time": "2022-07-14T18:15:06.953786Z"
    }
   },
   "outputs": [
    {
     "data": {
      "text/plain": [
       "Store                          int64\n",
       "StoreType                     object\n",
       "Assortment                    object\n",
       "CompetitionDistance          float64\n",
       "CompetitionOpenSinceMonth    float64\n",
       "CompetitionOpenSinceYear     float64\n",
       "Promo2                         int64\n",
       "Promo2SinceWeek              float64\n",
       "Promo2SinceYear              float64\n",
       "PromoInterval                 object\n",
       "dtype: object"
      ]
     },
     "execution_count": 13,
     "metadata": {},
     "output_type": "execute_result"
    }
   ],
   "source": [
    "data_store.dtypes"
   ]
  },
  {
   "cell_type": "code",
   "execution_count": 9,
   "metadata": {
    "ExecuteTime": {
     "end_time": "2022-07-14T18:14:16.955791Z",
     "start_time": "2022-07-14T18:14:16.925873Z"
    }
   },
   "outputs": [
    {
     "data": {
      "text/html": [
       "<div>\n",
       "<style scoped>\n",
       "    .dataframe tbody tr th:only-of-type {\n",
       "        vertical-align: middle;\n",
       "    }\n",
       "\n",
       "    .dataframe tbody tr th {\n",
       "        vertical-align: top;\n",
       "    }\n",
       "\n",
       "    .dataframe thead th {\n",
       "        text-align: right;\n",
       "    }\n",
       "</style>\n",
       "<table border=\"1\" class=\"dataframe\">\n",
       "  <thead>\n",
       "    <tr style=\"text-align: right;\">\n",
       "      <th></th>\n",
       "      <th>Id</th>\n",
       "      <th>Store</th>\n",
       "      <th>DayOfWeek</th>\n",
       "      <th>Date</th>\n",
       "      <th>Open</th>\n",
       "      <th>Promo</th>\n",
       "      <th>StateHoliday</th>\n",
       "      <th>SchoolHoliday</th>\n",
       "    </tr>\n",
       "  </thead>\n",
       "  <tbody>\n",
       "    <tr>\n",
       "      <th>0</th>\n",
       "      <td>1</td>\n",
       "      <td>1</td>\n",
       "      <td>4</td>\n",
       "      <td>2015-09-17</td>\n",
       "      <td>1.0</td>\n",
       "      <td>1</td>\n",
       "      <td>0</td>\n",
       "      <td>0</td>\n",
       "    </tr>\n",
       "    <tr>\n",
       "      <th>1</th>\n",
       "      <td>2</td>\n",
       "      <td>3</td>\n",
       "      <td>4</td>\n",
       "      <td>2015-09-17</td>\n",
       "      <td>1.0</td>\n",
       "      <td>1</td>\n",
       "      <td>0</td>\n",
       "      <td>0</td>\n",
       "    </tr>\n",
       "    <tr>\n",
       "      <th>2</th>\n",
       "      <td>3</td>\n",
       "      <td>7</td>\n",
       "      <td>4</td>\n",
       "      <td>2015-09-17</td>\n",
       "      <td>1.0</td>\n",
       "      <td>1</td>\n",
       "      <td>0</td>\n",
       "      <td>0</td>\n",
       "    </tr>\n",
       "    <tr>\n",
       "      <th>3</th>\n",
       "      <td>4</td>\n",
       "      <td>8</td>\n",
       "      <td>4</td>\n",
       "      <td>2015-09-17</td>\n",
       "      <td>1.0</td>\n",
       "      <td>1</td>\n",
       "      <td>0</td>\n",
       "      <td>0</td>\n",
       "    </tr>\n",
       "    <tr>\n",
       "      <th>4</th>\n",
       "      <td>5</td>\n",
       "      <td>9</td>\n",
       "      <td>4</td>\n",
       "      <td>2015-09-17</td>\n",
       "      <td>1.0</td>\n",
       "      <td>1</td>\n",
       "      <td>0</td>\n",
       "      <td>0</td>\n",
       "    </tr>\n",
       "  </tbody>\n",
       "</table>\n",
       "</div>"
      ],
      "text/plain": [
       "   Id  Store  DayOfWeek        Date  Open  Promo StateHoliday  SchoolHoliday\n",
       "0   1      1          4  2015-09-17   1.0      1            0              0\n",
       "1   2      3          4  2015-09-17   1.0      1            0              0\n",
       "2   3      7          4  2015-09-17   1.0      1            0              0\n",
       "3   4      8          4  2015-09-17   1.0      1            0              0\n",
       "4   5      9          4  2015-09-17   1.0      1            0              0"
      ]
     },
     "execution_count": 9,
     "metadata": {},
     "output_type": "execute_result"
    }
   ],
   "source": [
    "data_test.head()"
   ]
  },
  {
   "cell_type": "code",
   "execution_count": 11,
   "metadata": {
    "ExecuteTime": {
     "end_time": "2022-07-14T18:14:51.086248Z",
     "start_time": "2022-07-14T18:14:51.076280Z"
    }
   },
   "outputs": [
    {
     "data": {
      "text/plain": [
       "(41088, 8)"
      ]
     },
     "execution_count": 11,
     "metadata": {},
     "output_type": "execute_result"
    }
   ],
   "source": [
    "data_test.shape"
   ]
  },
  {
   "cell_type": "code",
   "execution_count": 14,
   "metadata": {
    "ExecuteTime": {
     "end_time": "2022-07-14T18:15:26.379737Z",
     "start_time": "2022-07-14T18:15:26.364779Z"
    }
   },
   "outputs": [
    {
     "data": {
      "text/plain": [
       "Id                 int64\n",
       "Store              int64\n",
       "DayOfWeek          int64\n",
       "Date              object\n",
       "Open             float64\n",
       "Promo              int64\n",
       "StateHoliday      object\n",
       "SchoolHoliday      int64\n",
       "dtype: object"
      ]
     },
     "execution_count": 14,
     "metadata": {},
     "output_type": "execute_result"
    }
   ],
   "source": [
    "data_test.dtypes"
   ]
  },
  {
   "cell_type": "code",
   "execution_count": 16,
   "metadata": {
    "ExecuteTime": {
     "end_time": "2022-07-14T18:15:49.304221Z",
     "start_time": "2022-07-14T18:15:49.265327Z"
    }
   },
   "outputs": [],
   "source": [
    "data_test['Date'] = pd.to_datetime(data_test['Date'])"
   ]
  },
  {
   "cell_type": "code",
   "execution_count": 18,
   "metadata": {
    "ExecuteTime": {
     "end_time": "2022-07-14T18:45:41.117749Z",
     "start_time": "2022-07-14T18:45:40.394168Z"
    }
   },
   "outputs": [],
   "source": [
    "data_train = pd.read_csv('data/rossmann-store-sales/train.csv',low_memory=False)\n",
    "data_store = pd.read_csv('data/rossmann-store-sales/store.csv',low_memory=False)"
   ]
  },
  {
   "cell_type": "code",
   "execution_count": 19,
   "metadata": {
    "ExecuteTime": {
     "end_time": "2022-07-14T18:45:43.056162Z",
     "start_time": "2022-07-14T18:45:42.519796Z"
    }
   },
   "outputs": [],
   "source": [
    "df_raw = data_train.merge(data_store,how='left',on='Store')"
   ]
  },
  {
   "cell_type": "markdown",
   "metadata": {},
   "source": [
    "# Rossmann Class"
   ]
  },
  {
   "cell_type": "code",
   "execution_count": 17,
   "metadata": {
    "ExecuteTime": {
     "end_time": "2022-07-14T18:43:20.753701Z",
     "start_time": "2022-07-14T18:43:19.976977Z"
    }
   },
   "outputs": [],
   "source": [
    "class Rossmann(object):\n",
    "    \n",
    "    def __init__(self):\n",
    "        self.competition_distance_scaler    = pickle.load(open('parameter/rescaling_competition_distance.pkl','rb'))\n",
    "        self.competition_time_month_scaler  = pickle.load(open('parameter/rescaling_competition_time_month.pkl','rb'))\n",
    "        self.promo_time_week_scaler         = pickle.load(open('parameter/rescaling_promo_time_week.pkl','rb'))\n",
    "        self.year_scaler                    = pickle.load(open('parameter/rescaling_year.pkl','rb'))\n",
    "        self.store_type_encoder             = pickle.load(open('parameter/encoding_store_type.pkl','rb'))\n",
    "\n",
    "       \n",
    "        \n",
    "        state=1\n",
    "    def data_cleaning(self,df1)\n",
    "    \n",
    "        import inflection\n",
    "        \n",
    "        old_cols = df1.columns\n",
    "        snakecase = lambda x: inflection.underscore(x)\n",
    "        new_cols = list(map(snakecase,old_cols))\n",
    "        df1.columns = new_cols\n",
    "        \n",
    "        df1['date'] = pd.to_datetime(df1['date'])\n",
    "        \n",
    "        dist = lambda x: 200000.0 if math.isnan(x) else x\n",
    "        df1['competition_distance'] = df1['competition_distance'].apply(dist)\n",
    "\n",
    "        # competition_open_since_month   \n",
    "        comp_op_sin_mon = lambda x: x['date'].month if math.isnan(x['competition_open_since_month']) else x['competition_open_since_month']\n",
    "        df1['competition_open_since_month'] = df1.apply(comp_op_sin_mon,axis=1)\n",
    "        # competition_open_since_year    \n",
    "        comp_op_sin_year = lambda x: x['date'].year if math.isnan(x['competition_open_since_year']) else x['competition_open_since_year']\n",
    "        df1['competition_open_since_year'] = df1.apply(comp_op_sin_year,axis=1)\n",
    "\n",
    "        # promo2                         \n",
    "        # promo2_since_week\n",
    "        prom_week = lambda x: x['date'].week if math.isnan(x['promo2_since_week']) else x['promo2_since_week']\n",
    "        df1['promo2_since_week'] = df1.apply(prom_week,axis=1)\n",
    "\n",
    "        # promo2_since_year       \n",
    "        prom_year = lambda x: x['date'].year if math.isnan(x['promo2_since_year']) else x['promo2_since_year']\n",
    "        df1['promo2_since_year'] = df1.apply(prom_year,axis=1)\n",
    "\n",
    "        # promo_interval\n",
    "        month_map = {1: 'Jan', 2:'Feb', 3:'Mar', 4:'Apr', 5:'May', 6:'Jun', 7:'Jul', 8:'Aug', 9:'Sept', 10:'Oct', 11:'Nov',12:'Dec'}\n",
    "        df1['promo_interval'].fillna(0,inplace=True)\n",
    "        df1['month_map'] = df1['date'].dt.month.replace(month_map)\n",
    "        prom_int = lambda x: 0 if x['promo_interval'] == 0 else 1 if x['month_map'] in x['promo_interval'].split(',') else 0\n",
    "        df1['is_promo'] = df1[['promo_interval','month_map']].apply(prom_int,axis=1)\n",
    "        \n",
    "        # change types\n",
    "        df1['competition_open_since_month'] = df1['competition_open_since_month'].astype(int)\n",
    "        df1['competition_open_since_year'] = df1['competition_open_since_year'].astype(int)\n",
    "        df1['promo2_since_week'] = df1['promo2_since_week'].astype(int)\n",
    "        df1['promo2_since_year'] = df1['promo2_since_year'].astype(int)\n",
    "        \n",
    "        return df1\n",
    "    \n",
    "    def feature_engineering(self,df2):\n",
    "        #year\n",
    "        df2['year'] = df2['date'].dt.year\n",
    "        #month\n",
    "        df2['month'] = df2['date'].dt.month\n",
    "        #day\n",
    "        df2['day'] = df2['date'].dt.day\n",
    "        # week of year\n",
    "        df2['week_of_year'] = df2['date'].dt.weekofyear\n",
    "        # year week\n",
    "        df2['year_week'] = df2['date'].dt.strftime('%Y-%m')\n",
    "\n",
    "        # competiiton since\n",
    "        comp_sinc = lambda x: datetime.datetime(year=x['competition_open_since_year'],month = x['competition_open_since_month'],day=1)\n",
    "        df2['competition_since'] = df2.apply(comp_sinc,axis=1)\n",
    "        df2['competition_time_month'] = ((df2['date'] - df2['competition_since'])/30).apply(lambda x: x.days).astype(int)\n",
    "  \n",
    "        # promo since\n",
    "        df2['promo_since'] = df2['promo2_since_year'].astype(str)+ '-' + df2['promo2_since_week'].astype(str)\n",
    "        df2['promo_since'] = df2['promo_since'].apply(lambda x: datetime.datetime.strptime(x + '-1', '%Y-%W-%w') - datetime.timedelta(days=7))\n",
    "        df2['promo_time_week'] = ((df2['date'] - df2['promo_since'])/7).apply(lambda x: x.days).astype(int)\n",
    "\n",
    "        # assortment\n",
    "        assrt = {'a':'basic','b':'extra','c':'extended'}\n",
    "        df2['assortment']= df2['assortment'].replace(assrt)\n",
    "        \n",
    "        # state_holiday\n",
    "        sta_hol = { 'a':'public_holiday', 'b':'easter_holiday', 'c': 'christmas', '0':'regular_day'}\n",
    "        df2['state_holiday'] = df2['state_holiday'].replace(sta_hol)\n",
    "        \n",
    "        # season\n",
    "        winter_month = [12,1,2]\n",
    "        spring_month = [3,4,5]\n",
    "        summer_month = [6,7,8]\n",
    "        fall_month = [9,10,11]\n",
    "        df2['season'] = df2['month'].apply(lambda x: 'winter' if  x in winter_month else \n",
    "                                          ('spring' if x in spring_month else\n",
    "                                           ('summer' if x in summer_month else\n",
    "                                            ('fall' if x in fall_month else 'NA'))))\n",
    "        # filtering rows\n",
    "        df2 = df2[(df3['open']!=0) & (df2['sales']>0)]\n",
    "        \n",
    "        #filtering colums\n",
    "        cols_drop = ['customers','open','promo_interval', 'month_map']\n",
    "        df2.drop(columns=cols_drop,inplace=True)\n",
    "        \n",
    "        return df2\n",
    "    \n",
    "    def data_preparation(self,df5):\n",
    "        \n",
    "        #rescaling ==========================================================\n",
    "        \n",
    "        # competiton distance\n",
    "        df5['competition_distance'] = self.competition_distance_scaler.transform(df5[['competition_distance']].values)\n",
    "        \n",
    "        # competiton time month\n",
    "        df5['competition_time_month'] = self.competition_time_month_scaler.transform(df5[['competition_time_month']].values)\n",
    "        \n",
    "        df5['promo_time_week'] = self.promo_time_week_scaler.transform(df5[['promo_time_week']].values)\n",
    "        \n",
    "        df5['year'] = self.year_scaler.transform(df5[['year']].values)\n",
    "        \n",
    "        \n",
    "        #encodig =============================================================\n",
    "        \n",
    "        # state_holiday - one hot encoding\n",
    "        df5 = pd.get_dummies(df5,prefix=['state_holiday'],columns=['state_holiday'])\n",
    "        # store_type - label encoding\n",
    "        df5['store_type'] = self.store_type_encoder.transform(df5['store_type'])\n",
    "        \n",
    "        # assortment - ordinal encoding\n",
    "        assortment_dict = {'basic':1,'extra':2,'extended':3}\n",
    "        df5['assortment'] = df5['assortment'].map(assortment_dict)\n",
    "        # season - one hot encoding\n",
    "        df5 = pd.get_dummies(df5,prefix=['season'],columns=['season'])\n",
    "        \n",
    "          \n",
    "        # nature transform ==================================================\n",
    "        \n",
    "        #month\n",
    "        df5['month_sin'] = df5['month'].apply(lambda x: np.sin(x*(2.* np.pi/12)))\n",
    "        df5['month_cos'] = df5['month'].apply(lambda x: np.cos(x*(2.* np.pi/12)))\n",
    "\n",
    "        #day\n",
    "        df5['day_sin'] = df5['day'].apply(lambda x: np.sin(x*(2.* np.pi/31)))\n",
    "        df5['day_cos'] = df5['day'].apply(lambda x: np.cos(x*(2.* np.pi/31)))\n",
    "\n",
    "        #week of year\n",
    "        df5['week_of_year_sin'] = df5['week_of_year'].apply(lambda x: np.sin(x*(2.* np.pi/52)))\n",
    "        df5['week_of_year_cos'] = df5['week_of_year'].apply(lambda x: np.cos(x*(2.* np.pi/52)))\n",
    "\n",
    "        # day of week\n",
    "        df5['day_of_week_sin'] = df5['day_of_week'].apply(lambda x: np.sin(x*(2.* np.pi/7)))\n",
    "        df5['day_of_week_cos'] = df5['day_of_week'].apply(lambda x: np.cos(x*(2.* np.pi/7)))\n",
    "        \n",
    "        cols_selected = ['store', 'promo', 'store_type', 'assortment', 'competition_distance',\n",
    "                       'competition_open_since_month', 'competition_open_since_year', 'promo2',\n",
    "                       'promo2_since_week', 'promo2_since_year', 'competition_time_month',\n",
    "                       'promo_time_week', 'competition_ time_month', 'month_sin','month_cos', 'day_sin',\n",
    "                       'day_cos','week_of_year_sin', 'week_of_year_cos', 'day_of_week_sin', 'day_of_week_cos']\n",
    "        return df5[cols_selected]\n",
    "    \n"
   ]
  },
  {
   "cell_type": "markdown",
   "metadata": {},
   "source": [
    "# API Handler"
   ]
  },
  {
   "cell_type": "code",
   "execution_count": 23,
   "metadata": {
    "ExecuteTime": {
     "end_time": "2022-07-14T19:26:13.311850Z",
     "start_time": "2022-07-14T19:26:13.307900Z"
    }
   },
   "outputs": [],
   "source": []
  },
  {
   "cell_type": "code",
   "execution_count": null,
   "metadata": {},
   "outputs": [],
   "source": [
    "import pickle\n",
    "import pandas as pd\n",
    "from flask import Flask, request, Response\n",
    "from rossmann.Rossmann import Rossmann\n",
    "\n",
    "#loading model\n",
    "model = pickle.load(open('C:\\Users\\Lavin\\Documents\\Comunidade DS\\Ds_em_producao\\model\\model_rossman_xgb.pkl'))\n",
    "\n",
    "app = Flask(__name__)\n",
    "if __name__ = '__main__':\n",
    "    app.run('0.0.0.0')\n",
    "\n",
    "@app.router('/rossmann/predict',methods=['POST'])\n",
    "def rossmann_predict():\n",
    "    test_json = request.get_jason()\n",
    "    \n",
    "    if test_json: #there is data\n",
    "        \n",
    "        if isinstance(test_json,dict): #UNique example\n",
    "            test_raw = pd.DataFrame(test_json,index=[0])\n",
    "        else: # Multiple Examples\n",
    "            test_raw = pd.DataFrame(test_json,columns=test_json[0].keys())\n",
    "        \n",
    "        # Instantiate Rossman class\n",
    "        pipeline = Rossman()\n",
    "        \n",
    "        #data cleaning\n",
    "        df1 = pipeline.data_cleaning(test_raw)\n",
    "        # feature engeneering\n",
    "        df2 = pipeline.feature_engineering(df1)\n",
    "        # data preparation\n",
    "        df3 = pipeline.data_preparation(df2)\n",
    "        # prediction\n",
    "        df_response = pipeline.get_prediction(model,test_raw,df3)\n",
    "        \n",
    "        return df_response\n",
    "    \n",
    "    else:\n",
    "        return Response('{}',status=200,mimetype='application/json')"
   ]
  }
 ],
 "metadata": {
  "kernelspec": {
   "display_name": "Python 3",
   "language": "python",
   "name": "python3"
  },
  "language_info": {
   "codemirror_mode": {
    "name": "ipython",
    "version": 3
   },
   "file_extension": ".py",
   "mimetype": "text/x-python",
   "name": "python",
   "nbconvert_exporter": "python",
   "pygments_lexer": "ipython3",
   "version": "3.8.5"
  }
 },
 "nbformat": 4,
 "nbformat_minor": 4
}
