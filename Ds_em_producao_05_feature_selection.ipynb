{
 "cells": [
  {
   "cell_type": "markdown",
   "metadata": {},
   "source": [
    "# imports"
   ]
  },
  {
   "cell_type": "code",
   "execution_count": 1,
   "metadata": {
    "ExecuteTime": {
     "end_time": "2022-07-06T22:34:17.169783Z",
     "start_time": "2022-07-06T22:34:14.444730Z"
    }
   },
   "outputs": [],
   "source": [
    "import pandas as pd\n",
    "import numpy as np\n",
    "import inflection\n",
    "import math\n",
    "import seaborn as sns\n",
    "import datetime\n",
    "from matplotlib import pyplot as plt\n",
    "from IPython.core.display import HTML\n",
    "from IPython.display import Image\n",
    "from scipy import stats\n",
    "from sklearn.preprocessing import RobustScaler, MinMaxScaler, LabelEncoder"
   ]
  },
  {
   "cell_type": "code",
   "execution_count": 2,
   "metadata": {
    "ExecuteTime": {
     "end_time": "2022-07-06T22:34:17.201613Z",
     "start_time": "2022-07-06T22:34:17.172692Z"
    }
   },
   "outputs": [
    {
     "name": "stdout",
     "output_type": "stream",
     "text": [
      "Populating the interactive namespace from numpy and matplotlib\n"
     ]
    },
    {
     "data": {
      "text/html": [
       "<style>.container { width:100% !important; }</style>"
      ],
      "text/plain": [
       "<IPython.core.display.HTML object>"
      ]
     },
     "metadata": {},
     "output_type": "display_data"
    }
   ],
   "source": [
    "def jupyter_settings():\n",
    "    %matplotlib inline\n",
    "    %pylab inline\n",
    "    plt.style.use( 'bmh' )\n",
    "    plt.rcParams['figure.figsize'] = [25, 12]\n",
    "    plt.rcParams['font.size'] = 24\n",
    "    display( HTML( '<style>.container { width:100% !important; }</style>') )\n",
    "    sns.set()\n",
    "jupyter_settings()"
   ]
  },
  {
   "cell_type": "markdown",
   "metadata": {},
   "source": [
    "# load data"
   ]
  },
  {
   "cell_type": "code",
   "execution_count": 3,
   "metadata": {
    "ExecuteTime": {
     "end_time": "2022-07-06T22:34:22.743723Z",
     "start_time": "2022-07-06T22:34:17.205603Z"
    }
   },
   "outputs": [],
   "source": [
    "df6 = pd.read_csv('data/df5.csv',low_memory=False)"
   ]
  },
  {
   "cell_type": "code",
   "execution_count": 4,
   "metadata": {
    "ExecuteTime": {
     "end_time": "2022-07-06T22:34:22.823278Z",
     "start_time": "2022-07-06T22:34:22.746722Z"
    },
    "scrolled": true
   },
   "outputs": [
    {
     "data": {
      "text/html": [
       "<div>\n",
       "<style scoped>\n",
       "    .dataframe tbody tr th:only-of-type {\n",
       "        vertical-align: middle;\n",
       "    }\n",
       "\n",
       "    .dataframe tbody tr th {\n",
       "        vertical-align: top;\n",
       "    }\n",
       "\n",
       "    .dataframe thead th {\n",
       "        text-align: right;\n",
       "    }\n",
       "</style>\n",
       "<table border=\"1\" class=\"dataframe\">\n",
       "  <thead>\n",
       "    <tr style=\"text-align: right;\">\n",
       "      <th></th>\n",
       "      <th>store</th>\n",
       "      <th>day_of_week</th>\n",
       "      <th>date</th>\n",
       "      <th>sales</th>\n",
       "      <th>promo</th>\n",
       "      <th>school_holiday</th>\n",
       "      <th>store_type</th>\n",
       "      <th>assortment</th>\n",
       "      <th>competition_distance</th>\n",
       "      <th>competition_open_since_month</th>\n",
       "      <th>...</th>\n",
       "      <th>season_summer</th>\n",
       "      <th>season_winter</th>\n",
       "      <th>month_sin</th>\n",
       "      <th>month_cos</th>\n",
       "      <th>day_sin</th>\n",
       "      <th>day_cos</th>\n",
       "      <th>week_of_year_sin</th>\n",
       "      <th>week_of_year_cos</th>\n",
       "      <th>day_of_week_sin</th>\n",
       "      <th>day_of_week_cos</th>\n",
       "    </tr>\n",
       "  </thead>\n",
       "  <tbody>\n",
       "    <tr>\n",
       "      <th>0</th>\n",
       "      <td>1</td>\n",
       "      <td>5</td>\n",
       "      <td>2015-07-31</td>\n",
       "      <td>8.568456</td>\n",
       "      <td>1</td>\n",
       "      <td>1</td>\n",
       "      <td>2</td>\n",
       "      <td>1</td>\n",
       "      <td>-0.170968</td>\n",
       "      <td>9</td>\n",
       "      <td>...</td>\n",
       "      <td>1</td>\n",
       "      <td>0</td>\n",
       "      <td>-0.5</td>\n",
       "      <td>-0.866025</td>\n",
       "      <td>-2.449294e-16</td>\n",
       "      <td>1.0</td>\n",
       "      <td>-0.568065</td>\n",
       "      <td>-0.822984</td>\n",
       "      <td>-0.974928</td>\n",
       "      <td>-0.222521</td>\n",
       "    </tr>\n",
       "    <tr>\n",
       "      <th>1</th>\n",
       "      <td>2</td>\n",
       "      <td>5</td>\n",
       "      <td>2015-07-31</td>\n",
       "      <td>8.710125</td>\n",
       "      <td>1</td>\n",
       "      <td>1</td>\n",
       "      <td>0</td>\n",
       "      <td>1</td>\n",
       "      <td>-0.283871</td>\n",
       "      <td>11</td>\n",
       "      <td>...</td>\n",
       "      <td>1</td>\n",
       "      <td>0</td>\n",
       "      <td>-0.5</td>\n",
       "      <td>-0.866025</td>\n",
       "      <td>-2.449294e-16</td>\n",
       "      <td>1.0</td>\n",
       "      <td>-0.568065</td>\n",
       "      <td>-0.822984</td>\n",
       "      <td>-0.974928</td>\n",
       "      <td>-0.222521</td>\n",
       "    </tr>\n",
       "    <tr>\n",
       "      <th>2</th>\n",
       "      <td>3</td>\n",
       "      <td>5</td>\n",
       "      <td>2015-07-31</td>\n",
       "      <td>9.025696</td>\n",
       "      <td>1</td>\n",
       "      <td>1</td>\n",
       "      <td>0</td>\n",
       "      <td>1</td>\n",
       "      <td>1.903226</td>\n",
       "      <td>12</td>\n",
       "      <td>...</td>\n",
       "      <td>1</td>\n",
       "      <td>0</td>\n",
       "      <td>-0.5</td>\n",
       "      <td>-0.866025</td>\n",
       "      <td>-2.449294e-16</td>\n",
       "      <td>1.0</td>\n",
       "      <td>-0.568065</td>\n",
       "      <td>-0.822984</td>\n",
       "      <td>-0.974928</td>\n",
       "      <td>-0.222521</td>\n",
       "    </tr>\n",
       "    <tr>\n",
       "      <th>3</th>\n",
       "      <td>4</td>\n",
       "      <td>5</td>\n",
       "      <td>2015-07-31</td>\n",
       "      <td>9.546455</td>\n",
       "      <td>1</td>\n",
       "      <td>1</td>\n",
       "      <td>2</td>\n",
       "      <td>3</td>\n",
       "      <td>-0.275806</td>\n",
       "      <td>9</td>\n",
       "      <td>...</td>\n",
       "      <td>1</td>\n",
       "      <td>0</td>\n",
       "      <td>-0.5</td>\n",
       "      <td>-0.866025</td>\n",
       "      <td>-2.449294e-16</td>\n",
       "      <td>1.0</td>\n",
       "      <td>-0.568065</td>\n",
       "      <td>-0.822984</td>\n",
       "      <td>-0.974928</td>\n",
       "      <td>-0.222521</td>\n",
       "    </tr>\n",
       "    <tr>\n",
       "      <th>4</th>\n",
       "      <td>5</td>\n",
       "      <td>5</td>\n",
       "      <td>2015-07-31</td>\n",
       "      <td>8.480944</td>\n",
       "      <td>1</td>\n",
       "      <td>1</td>\n",
       "      <td>0</td>\n",
       "      <td>1</td>\n",
       "      <td>4.448387</td>\n",
       "      <td>4</td>\n",
       "      <td>...</td>\n",
       "      <td>1</td>\n",
       "      <td>0</td>\n",
       "      <td>-0.5</td>\n",
       "      <td>-0.866025</td>\n",
       "      <td>-2.449294e-16</td>\n",
       "      <td>1.0</td>\n",
       "      <td>-0.568065</td>\n",
       "      <td>-0.822984</td>\n",
       "      <td>-0.974928</td>\n",
       "      <td>-0.222521</td>\n",
       "    </tr>\n",
       "  </tbody>\n",
       "</table>\n",
       "<p>5 rows × 41 columns</p>\n",
       "</div>"
      ],
      "text/plain": [
       "   store  day_of_week        date     sales  promo  school_holiday  \\\n",
       "0      1            5  2015-07-31  8.568456      1               1   \n",
       "1      2            5  2015-07-31  8.710125      1               1   \n",
       "2      3            5  2015-07-31  9.025696      1               1   \n",
       "3      4            5  2015-07-31  9.546455      1               1   \n",
       "4      5            5  2015-07-31  8.480944      1               1   \n",
       "\n",
       "   store_type  assortment  competition_distance  competition_open_since_month  \\\n",
       "0           2           1             -0.170968                             9   \n",
       "1           0           1             -0.283871                            11   \n",
       "2           0           1              1.903226                            12   \n",
       "3           2           3             -0.275806                             9   \n",
       "4           0           1              4.448387                             4   \n",
       "\n",
       "   ...  season_summer  season_winter  month_sin  month_cos       day_sin  \\\n",
       "0  ...              1              0       -0.5  -0.866025 -2.449294e-16   \n",
       "1  ...              1              0       -0.5  -0.866025 -2.449294e-16   \n",
       "2  ...              1              0       -0.5  -0.866025 -2.449294e-16   \n",
       "3  ...              1              0       -0.5  -0.866025 -2.449294e-16   \n",
       "4  ...              1              0       -0.5  -0.866025 -2.449294e-16   \n",
       "\n",
       "   day_cos  week_of_year_sin  week_of_year_cos  day_of_week_sin  \\\n",
       "0      1.0         -0.568065         -0.822984        -0.974928   \n",
       "1      1.0         -0.568065         -0.822984        -0.974928   \n",
       "2      1.0         -0.568065         -0.822984        -0.974928   \n",
       "3      1.0         -0.568065         -0.822984        -0.974928   \n",
       "4      1.0         -0.568065         -0.822984        -0.974928   \n",
       "\n",
       "  day_of_week_cos  \n",
       "0       -0.222521  \n",
       "1       -0.222521  \n",
       "2       -0.222521  \n",
       "3       -0.222521  \n",
       "4       -0.222521  \n",
       "\n",
       "[5 rows x 41 columns]"
      ]
     },
     "execution_count": 4,
     "metadata": {},
     "output_type": "execute_result"
    }
   ],
   "source": [
    "df6.head()"
   ]
  },
  {
   "cell_type": "code",
   "execution_count": 5,
   "metadata": {
    "ExecuteTime": {
     "end_time": "2022-07-06T22:34:22.885124Z",
     "start_time": "2022-07-06T22:34:22.825271Z"
    },
    "scrolled": false
   },
   "outputs": [
    {
     "data": {
      "text/plain": [
       "store                             int64\n",
       "day_of_week                       int64\n",
       "date                             object\n",
       "sales                           float64\n",
       "promo                             int64\n",
       "school_holiday                    int64\n",
       "store_type                        int64\n",
       "assortment                        int64\n",
       "competition_distance            float64\n",
       "competition_open_since_month      int64\n",
       "competition_open_since_year       int64\n",
       "promo2                            int64\n",
       "promo2_since_week                 int64\n",
       "promo2_since_year                 int64\n",
       "is_promo                          int64\n",
       "year                            float64\n",
       "month                             int64\n",
       "day                               int64\n",
       "week_of_year                      int64\n",
       "year_week                        object\n",
       "competition_since                object\n",
       "competition_time_month            int64\n",
       "promo_since                      object\n",
       "promo_time_week                 float64\n",
       "competition_ time_month         float64\n",
       "state_holiday_christmas           int64\n",
       "state_holiday_easter_holiday      int64\n",
       "state_holiday_public_holiday      int64\n",
       "state_holiday_regular_day         int64\n",
       "season_fall                       int64\n",
       "season_spring                     int64\n",
       "season_summer                     int64\n",
       "season_winter                     int64\n",
       "month_sin                       float64\n",
       "month_cos                       float64\n",
       "day_sin                         float64\n",
       "day_cos                         float64\n",
       "week_of_year_sin                float64\n",
       "week_of_year_cos                float64\n",
       "day_of_week_sin                 float64\n",
       "day_of_week_cos                 float64\n",
       "dtype: object"
      ]
     },
     "execution_count": 5,
     "metadata": {},
     "output_type": "execute_result"
    }
   ],
   "source": [
    "df6.dtypes"
   ]
  },
  {
   "cell_type": "code",
   "execution_count": 7,
   "metadata": {
    "ExecuteTime": {
     "end_time": "2022-07-06T22:35:03.636440Z",
     "start_time": "2022-07-06T22:35:03.255587Z"
    }
   },
   "outputs": [],
   "source": [
    "df6['date'] = pd.to_datetime(df6['date'])\n",
    "df6['competition_since'] = pd.to_datetime(df6['competition_since'])\n",
    "df6['promo_since'] = pd.to_datetime(df6['promo_since'])"
   ]
  },
  {
   "cell_type": "code",
   "execution_count": null,
   "metadata": {
    "ExecuteTime": {
     "end_time": "2022-07-06T22:34:23.518819Z",
     "start_time": "2022-07-06T22:34:14.465Z"
    }
   },
   "outputs": [],
   "source": [
    "# num_attribures = df5.select_dtypes(include=['int64','int32','float64'])\n",
    "# cat_attribures = df5.select_dtypes(exclude=['int64','int32','float64','datetime64[ns]'])"
   ]
  }
 ],
 "metadata": {
  "kernelspec": {
   "display_name": "Python 3",
   "language": "python",
   "name": "python3"
  },
  "language_info": {
   "codemirror_mode": {
    "name": "ipython",
    "version": 3
   },
   "file_extension": ".py",
   "mimetype": "text/x-python",
   "name": "python",
   "nbconvert_exporter": "python",
   "pygments_lexer": "ipython3",
   "version": "3.8.5"
  }
 },
 "nbformat": 4,
 "nbformat_minor": 4
}
