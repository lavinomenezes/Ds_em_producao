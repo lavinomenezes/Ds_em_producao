{
 "cells": [
  {
   "cell_type": "markdown",
   "metadata": {},
   "source": [
    "# imports"
   ]
  },
  {
   "cell_type": "code",
   "execution_count": 1,
   "metadata": {
    "ExecuteTime": {
     "end_time": "2022-07-15T18:59:15.717377Z",
     "start_time": "2022-07-15T18:59:09.147227Z"
    }
   },
   "outputs": [],
   "source": [
    "import pandas as pd\n",
    "import numpy as np\n",
    "import inflection\n",
    "import math\n",
    "import seaborn as sns\n",
    "import datetime\n",
    "import xgboost as xgb\n",
    "import random\n",
    "import warnings\n",
    "import pickle\n",
    "from matplotlib import pyplot as plt\n",
    "from IPython.core.display import HTML\n",
    "from IPython.display import Image\n",
    "from sklearn.ensemble import RandomForestRegressor\n",
    "from sklearn.linear_model import LinearRegression, Lasso\n",
    "from sklearn.metrics import mean_absolute_error, mean_absolute_percentage_error, mean_squared_error"
   ]
  },
  {
   "cell_type": "markdown",
   "metadata": {},
   "source": [
    "## helper functions"
   ]
  },
  {
   "cell_type": "code",
   "execution_count": 2,
   "metadata": {
    "ExecuteTime": {
     "end_time": "2022-07-15T18:59:15.764296Z",
     "start_time": "2022-07-15T18:59:15.720374Z"
    }
   },
   "outputs": [
    {
     "name": "stdout",
     "output_type": "stream",
     "text": [
      "Populating the interactive namespace from numpy and matplotlib\n"
     ]
    },
    {
     "name": "stderr",
     "output_type": "stream",
     "text": [
      "C:\\Users\\Lavin\\anaconda3\\lib\\site-packages\\IPython\\core\\magics\\pylab.py:159: UserWarning: pylab import has clobbered these variables: ['random']\n",
      "`%matplotlib` prevents importing * from pylab and numpy\n",
      "  warn(\"pylab import has clobbered these variables: %s\"  % clobbered +\n"
     ]
    },
    {
     "data": {
      "text/html": [
       "<style>.container { width:100% !important; }</style>"
      ],
      "text/plain": [
       "<IPython.core.display.HTML object>"
      ]
     },
     "metadata": {},
     "output_type": "display_data"
    }
   ],
   "source": [
    "def jupyter_settings():\n",
    "    %matplotlib inline\n",
    "    %pylab inline\n",
    "    plt.style.use( 'bmh' )\n",
    "    plt.rcParams['figure.figsize'] = [25, 12]\n",
    "    plt.rcParams['font.size'] = 24\n",
    "    display( HTML( '<style>.container { width:100% !important; }</style>') )\n",
    "    sns.set()\n",
    "jupyter_settings()"
   ]
  },
  {
   "cell_type": "markdown",
   "metadata": {},
   "source": [
    "# load data"
   ]
  },
  {
   "cell_type": "code",
   "execution_count": 3,
   "metadata": {
    "ExecuteTime": {
     "end_time": "2022-07-15T18:59:15.890348Z",
     "start_time": "2022-07-15T18:59:15.767248Z"
    }
   },
   "outputs": [],
   "source": [
    "data_store = pd.read_csv('data/rossmann-store-sales/store.csv',low_memory=False)\n",
    "data_test = pd.read_csv('data/rossmann-store-sales/test.csv',low_memory=False)"
   ]
  },
  {
   "cell_type": "code",
   "execution_count": 10,
   "metadata": {
    "ExecuteTime": {
     "end_time": "2022-07-15T18:59:16.063084Z",
     "start_time": "2022-07-15T18:59:16.034160Z"
    }
   },
   "outputs": [],
   "source": [
    "data_test['Date'] = pd.to_datetime(data_test['Date'])"
   ]
  },
  {
   "cell_type": "markdown",
   "metadata": {},
   "source": [
    "# Rossmann Class"
   ]
  },
  {
   "cell_type": "code",
   "execution_count": 53,
   "metadata": {
    "ExecuteTime": {
     "end_time": "2022-07-15T20:33:10.107695Z",
     "start_time": "2022-07-15T20:33:10.042874Z"
    }
   },
   "outputs": [],
   "source": [
    "import inflection\n",
    "import pickle\n",
    "import pandas as pd\n",
    "import numpy as np\n",
    "import math\n",
    "import datetime\n",
    "\n",
    "class Rossmann(object):\n",
    "    \n",
    "    def __init__(self):\n",
    "        self.home_path = 'Users/Lavin/Documents/Comunidade DS/Ds_em_producao'\n",
    "        self.competition_distance_scaler    = pickle.load(open(self.home_path + 'parameter/rescaling_competition_distance.pkl','rb'))\n",
    "        self.competition_time_month_scaler  = pickle.load(open(self.home_path + 'parameter/rescaling_competition_time_month.pkl','rb'))\n",
    "        self.promo_time_week_scaler         = pickle.load(open(self.home_path + 'parameter/rescaling_promo_time_week.pkl','rb'))\n",
    "        self.year_scaler                    = pickle.load(open(self.home_path + 'parameter/rescaling_year.pkl','rb'))\n",
    "        self.store_type_encoder             = pickle.load(open(self.home_path + 'parameter/encoding_store_type.pkl','rb'))\n",
    "\n",
    "       \n",
    "        \n",
    "        state=1\n",
    "    def data_cleaning(self,df1):\n",
    "    \n",
    "\n",
    "        \n",
    "        old_cols = ['Store', 'DayOfWeek', 'Date', 'Open', 'Promo',\n",
    "                   'StateHoliday', 'SchoolHoliday', 'StoreType', 'Assortment',\n",
    "                   'CompetitionDistance', 'CompetitionOpenSinceMonth',\n",
    "                   'CompetitionOpenSinceYear', 'Promo2', 'Promo2SinceWeek',\n",
    "                   'Promo2SinceYear', 'PromoInterval']\n",
    "        snakecase = lambda x: inflection.underscore(x)\n",
    "        new_cols = list(map(snakecase,old_cols))\n",
    "        df1.columns = new_cols\n",
    "        \n",
    "        df1['date'] = pd.to_datetime(df1['date'])\n",
    "        \n",
    "        dist = lambda x: 200000.0 if math.isnan(x) else x\n",
    "        df1['competition_distance'] = df1['competition_distance'].apply(dist)\n",
    "\n",
    "        # competition_open_since_month   \n",
    "        comp_op_sin_mon = lambda x: x['date'].month if math.isnan(x['competition_open_since_month']) else x['competition_open_since_month']\n",
    "        df1['competition_open_since_month'] = df1.apply(comp_op_sin_mon,axis=1)\n",
    "        # competition_open_since_year    \n",
    "        comp_op_sin_year = lambda x: x['date'].year if math.isnan(x['competition_open_since_year']) else x['competition_open_since_year']\n",
    "        df1['competition_open_since_year'] = df1.apply(comp_op_sin_year,axis=1)\n",
    "\n",
    "        # promo2                         \n",
    "        # promo2_since_week\n",
    "        prom_week = lambda x: x['date'].week if math.isnan(x['promo2_since_week']) else x['promo2_since_week']\n",
    "        df1['promo2_since_week'] = df1.apply(prom_week,axis=1)\n",
    "\n",
    "        # promo2_since_year       \n",
    "        prom_year = lambda x: x['date'].year if math.isnan(x['promo2_since_year']) else x['promo2_since_year']\n",
    "        df1['promo2_since_year'] = df1.apply(prom_year,axis=1)\n",
    "\n",
    "        # promo_interval\n",
    "        month_map = {1: 'Jan', 2:'Feb', 3:'Mar', 4:'Apr', 5:'May', 6:'Jun', 7:'Jul', 8:'Aug', 9:'Sept', 10:'Oct', 11:'Nov',12:'Dec'}\n",
    "        df1['promo_interval'].fillna(0,inplace=True)\n",
    "        df1['month_map'] = df1['date'].dt.month.replace(month_map)\n",
    "        prom_int = lambda x: 0 if x['promo_interval'] == 0 else 1 if x['month_map'] in x['promo_interval'].split(',') else 0\n",
    "        df1['is_promo'] = df1[['promo_interval','month_map']].apply(prom_int,axis=1)\n",
    "        \n",
    "        # change types\n",
    "        df1['competition_open_since_month'] = df1['competition_open_since_month'].astype(int)\n",
    "        df1['competition_open_since_year'] = df1['competition_open_since_year'].astype(int)\n",
    "        df1['promo2_since_week'] = df1['promo2_since_week'].astype(int)\n",
    "        df1['promo2_since_year'] = df1['promo2_since_year'].astype(int)\n",
    "        \n",
    "        return df1\n",
    "    \n",
    "    def feature_engineering(self,df2):\n",
    "        #year\n",
    "        df2['year'] = df2['date'].dt.year\n",
    "        #month\n",
    "        df2['month'] = df2['date'].dt.month\n",
    "        #day\n",
    "        df2['day'] = df2['date'].dt.day\n",
    "        # week of year\n",
    "        df2['week_of_year'] = df2['date'].dt.weekofyear\n",
    "        # year week\n",
    "        df2['year_week'] = df2['date'].dt.strftime('%Y-%m')\n",
    "\n",
    "        # competiiton since\n",
    "        comp_sinc = lambda x: datetime.datetime(year=x['competition_open_since_year'],month = x['competition_open_since_month'],day=1)\n",
    "        df2['competition_since'] = df2.apply(comp_sinc,axis=1)\n",
    "        df2['competition_time_month'] = ((df2['date'] - df2['competition_since'])/30).apply(lambda x: x.days).astype(int)\n",
    "  \n",
    "        # promo since\n",
    "        df2['promo_since'] = df2['promo2_since_year'].astype(str)+ '-' + df2['promo2_since_week'].astype(str)\n",
    "        df2['promo_since'] = df2['promo_since'].apply(lambda x: datetime.datetime.strptime(x + '-1', '%Y-%W-%w') - datetime.timedelta(days=7))\n",
    "        df2['promo_time_week'] = ((df2['date'] - df2['promo_since'])/7).apply(lambda x: x.days).astype(int)\n",
    "\n",
    "        # assortment\n",
    "        assrt = {'a':'basic','b':'extra','c':'extended'}\n",
    "        df2['assortment']= df2['assortment'].replace(assrt)\n",
    "        \n",
    "        # state_holiday\n",
    "        sta_hol = { 'a':'public_holiday', 'b':'easter_holiday', 'c': 'christmas', '0':'regular_day'}\n",
    "        df2['state_holiday'] = df2['state_holiday'].replace(sta_hol)\n",
    "        \n",
    "        # season\n",
    "        winter_month = [12,1,2]\n",
    "        spring_month = [3,4,5]\n",
    "        summer_month = [6,7,8]\n",
    "        fall_month = [9,10,11]\n",
    "        df2['season'] = df2['month'].apply(lambda x: 'winter' if  x in winter_month else \n",
    "                                          ('spring' if x in spring_month else\n",
    "                                           ('summer' if x in summer_month else\n",
    "                                            ('fall' if x in fall_month else 'NA'))))\n",
    "        # filtering rows\n",
    "        \n",
    "        #filtering colums\n",
    "        cols_drop = ['open','promo_interval', 'month_map']\n",
    "        df2.drop(columns=cols_drop,inplace=True)\n",
    "        \n",
    "        return df2\n",
    "    \n",
    "    def data_preparation(self,df5):\n",
    "        \n",
    "        #rescaling ==========================================================\n",
    "        \n",
    "        # competiton distance\n",
    "        df5['competition_distance'] = self.competition_distance_scaler.transform(df5[['competition_distance']].values)\n",
    "        \n",
    "        # competiton time month\n",
    "        df5['competition_time_month'] = self.competition_time_month_scaler.transform(df5[['competition_time_month']].values)\n",
    "        \n",
    "        df5['promo_time_week'] = self.promo_time_week_scaler.transform(df5[['promo_time_week']].values)\n",
    "        \n",
    "        df5['year'] = self.year_scaler.transform(df5[['year']].values)\n",
    "        \n",
    "        \n",
    "        #encodig =============================================================\n",
    "        \n",
    "        # state_holiday - one hot encoding\n",
    "        df5 = pd.get_dummies(df5,prefix=['state_holiday'],columns=['state_holiday'])\n",
    "        # store_type - label encoding\n",
    "        df5['store_type'] = self.store_type_encoder.transform(df5['store_type'])\n",
    "        \n",
    "        # assortment - ordinal encoding\n",
    "        assortment_dict = {'basic':1,'extra':2,'extended':3}\n",
    "        df5['assortment'] = df5['assortment'].map(assortment_dict)\n",
    "        # season - one hot encoding\n",
    "        df5 = pd.get_dummies(df5,prefix=['season'],columns=['season'])\n",
    "        \n",
    "          \n",
    "        # nature transform ==================================================\n",
    "        \n",
    "        #month\n",
    "        df5['month_sin'] = df5['month'].apply(lambda x: np.sin(x*(2.* np.pi/12)))\n",
    "        df5['month_cos'] = df5['month'].apply(lambda x: np.cos(x*(2.* np.pi/12)))\n",
    "\n",
    "        #day\n",
    "        df5['day_sin'] = df5['day'].apply(lambda x: np.sin(x*(2.* np.pi/31)))\n",
    "        df5['day_cos'] = df5['day'].apply(lambda x: np.cos(x*(2.* np.pi/31)))\n",
    "\n",
    "        #week of year\n",
    "        df5['week_of_year_sin'] = df5['week_of_year'].apply(lambda x: np.sin(x*(2.* np.pi/52)))\n",
    "        df5['week_of_year_cos'] = df5['week_of_year'].apply(lambda x: np.cos(x*(2.* np.pi/52)))\n",
    "\n",
    "        # day of week\n",
    "        df5['day_of_week_sin'] = df5['day_of_week'].apply(lambda x: np.sin(x*(2.* np.pi/7)))\n",
    "        df5['day_of_week_cos'] = df5['day_of_week'].apply(lambda x: np.cos(x*(2.* np.pi/7)))\n",
    "        \n",
    "        cols_selected = ['store', 'promo', 'store_type', 'assortment', 'competition_distance',\n",
    "                       'competition_open_since_month', 'competition_open_since_year', 'promo2',\n",
    "                       'promo2_since_week', 'promo2_since_year', 'competition_time_month',\n",
    "                       'promo_time_week', 'competition_ time_month', 'month_sin','month_cos', 'day_sin',\n",
    "                       'day_cos','week_of_year_sin', 'week_of_year_cos', 'day_of_week_sin', 'day_of_week_cos']\n",
    "        return df5[cols_selected]\n",
    "    \n",
    "    def get_prediction(self,model,original_data,test_data):\n",
    "        #prediction\n",
    "        \n",
    "        pred = model.predict(test_data)\n",
    "        \n",
    "        #join pred into the original data\n",
    "        original_data['prediction'] = np.expm1(pred)\n",
    "        \n",
    "        return original_data.to_json(orient='records',date_format='iso')"
   ]
  },
  {
   "cell_type": "markdown",
   "metadata": {},
   "source": [
    "# API Handler"
   ]
  },
  {
   "cell_type": "code",
   "execution_count": 42,
   "metadata": {
    "ExecuteTime": {
     "end_time": "2022-07-15T19:56:02.695177Z",
     "start_time": "2022-07-15T19:56:02.661268Z"
    }
   },
   "outputs": [
    {
     "ename": "ModuleNotFoundError",
     "evalue": "No module named 'rossmann'",
     "output_type": "error",
     "traceback": [
      "\u001b[1;31m---------------------------------------------------------------------------\u001b[0m",
      "\u001b[1;31mModuleNotFoundError\u001b[0m                       Traceback (most recent call last)",
      "\u001b[1;32m<ipython-input-42-237d3831be0a>\u001b[0m in \u001b[0;36m<module>\u001b[1;34m\u001b[0m\n\u001b[0;32m      2\u001b[0m \u001b[1;32mimport\u001b[0m \u001b[0mpandas\u001b[0m \u001b[1;32mas\u001b[0m \u001b[0mpd\u001b[0m\u001b[1;33m\u001b[0m\u001b[1;33m\u001b[0m\u001b[0m\n\u001b[0;32m      3\u001b[0m \u001b[1;32mfrom\u001b[0m \u001b[0mflask\u001b[0m \u001b[1;32mimport\u001b[0m \u001b[0mFlask\u001b[0m\u001b[1;33m,\u001b[0m \u001b[0mrequest\u001b[0m\u001b[1;33m,\u001b[0m \u001b[0mResponse\u001b[0m\u001b[1;33m\u001b[0m\u001b[1;33m\u001b[0m\u001b[0m\n\u001b[1;32m----> 4\u001b[1;33m \u001b[1;32mfrom\u001b[0m \u001b[0mrossmann\u001b[0m\u001b[1;33m.\u001b[0m\u001b[0mRossmann\u001b[0m \u001b[1;32mimport\u001b[0m \u001b[0mRossmann\u001b[0m\u001b[1;33m\u001b[0m\u001b[1;33m\u001b[0m\u001b[0m\n\u001b[0m\u001b[0;32m      5\u001b[0m \u001b[1;33m\u001b[0m\u001b[0m\n\u001b[0;32m      6\u001b[0m \u001b[1;31m#loading model\u001b[0m\u001b[1;33m\u001b[0m\u001b[1;33m\u001b[0m\u001b[1;33m\u001b[0m\u001b[0m\n",
      "\u001b[1;31mModuleNotFoundError\u001b[0m: No module named 'rossmann'"
     ]
    }
   ],
   "source": [
    "import pickle\n",
    "import pandas as pd\n",
    "from flask import Flask, request, Response\n",
    "from rossmann.Rossmann import Rossmann\n",
    "\n",
    "#loading model\n",
    "model = pickle.load(open('Users\\Lavin\\Documents\\Comunidade DS\\Ds_em_producao\\model\\model_rossman_xgb.pkl'))\n",
    "\n",
    "app = Flask(__name__)\n",
    "\n",
    "@app.route('/rossmann/predict',methods=['POST'])\n",
    "def rossmann_predict():\n",
    "    test_json = request.get_jason()\n",
    "    \n",
    "    if test_json: #there is data\n",
    "        \n",
    "        if isinstance(test_json,dict): #UNique example\n",
    "            test_raw = pd.DataFrame(test_json,index=[0])\n",
    "        else: # Multiple Examples\n",
    "            test_raw = pd.DataFrame(test_json,columns=test_json[0].keys())\n",
    "        \n",
    "        # Instantiate Rossman class\n",
    "        pipeline = Rossmann()\n",
    "        \n",
    "        #data cleaning\n",
    "        df1 = pipeline.data_cleaning(test_raw)\n",
    "        # feature engeneering\n",
    "        df2 = pipeline.feature_engineering(df1)\n",
    "        # data preparation\n",
    "        df3 = pipeline.data_preparation(df2)\n",
    "        # prediction\n",
    "        df_response = pipeline.get_prediction(model,test_raw,df3)\n",
    "        \n",
    "        return df_response\n",
    "    \n",
    "    else:\n",
    "        return Response('{}',status=200,mimetype='application/json')\n",
    "\n",
    "if __name__ == '__main__':\n",
    "    app.run('0.0.0.0')"
   ]
  },
  {
   "cell_type": "markdown",
   "metadata": {},
   "source": [
    "# API test"
   ]
  },
  {
   "cell_type": "code",
   "execution_count": 48,
   "metadata": {
    "ExecuteTime": {
     "end_time": "2022-07-15T19:58:35.296074Z",
     "start_time": "2022-07-15T19:58:35.165393Z"
    }
   },
   "outputs": [],
   "source": [
    "import requests\n",
    "import json"
   ]
  },
  {
   "cell_type": "code",
   "execution_count": 49,
   "metadata": {
    "ExecuteTime": {
     "end_time": "2022-07-15T19:59:05.516462Z",
     "start_time": "2022-07-15T19:59:05.459613Z"
    }
   },
   "outputs": [],
   "source": [
    "df_test = pd.merge(data_test,data_store,how='left',on='Store')\n",
    "\n",
    "#choose store for prediction\n",
    "df_test = df_test[df_test['Store']==22]\n",
    "\n",
    "#remove closed days\n",
    "df_test = df_test[df_test['Open'] != 0]\n",
    "df_test = df_test[~df_test['Open'].isnull()]\n",
    "df_test.drop('Id',axis=1,inplace=True)\n",
    "df_test['Date'] = df_test['Date'].astype(str)"
   ]
  },
  {
   "cell_type": "code",
   "execution_count": 50,
   "metadata": {
    "ExecuteTime": {
     "end_time": "2022-07-15T19:59:07.198087Z",
     "start_time": "2022-07-15T19:59:07.177143Z"
    }
   },
   "outputs": [],
   "source": [
    "# convert dataframe to json\n",
    "data = df_test.to_dict(orient='records')\n",
    "data = json.dumps(data)"
   ]
  },
  {
   "cell_type": "code",
   "execution_count": 75,
   "metadata": {
    "ExecuteTime": {
     "end_time": "2022-07-15T21:56:35.107002Z",
     "start_time": "2022-07-15T21:56:34.920503Z"
    }
   },
   "outputs": [
    {
     "name": "stdout",
     "output_type": "stream",
     "text": [
      "Status code 200\n"
     ]
    }
   ],
   "source": [
    "# Api call\n",
    "\n",
    "url = 'http://192.168.0.5:5000/rossmann/predict'\n",
    "header = {'Content-type':'application/json'}\n",
    "data = data\n",
    "\n",
    "r = requests.post(url,data,headers=header)\n",
    "print('Status code {}'.format(r.status_code))"
   ]
  },
  {
   "cell_type": "code",
   "execution_count": 77,
   "metadata": {
    "ExecuteTime": {
     "end_time": "2022-07-15T22:08:04.371808Z",
     "start_time": "2022-07-15T22:08:04.349865Z"
    }
   },
   "outputs": [],
   "source": [
    "d1 = pd.DataFrame(r.json(),columns=r.json()[0].keys())"
   ]
  },
  {
   "cell_type": "code",
   "execution_count": 78,
   "metadata": {
    "ExecuteTime": {
     "end_time": "2022-07-15T22:08:18.574833Z",
     "start_time": "2022-07-15T22:08:18.562829Z"
    }
   },
   "outputs": [
    {
     "data": {
      "text/plain": [
       "205789.97412109372"
      ]
     },
     "execution_count": 78,
     "metadata": {},
     "output_type": "execute_result"
    }
   ],
   "source": [
    "d1['prediction'].sum()"
   ]
  }
 ],
 "metadata": {
  "kernelspec": {
   "display_name": "Python 3",
   "language": "python",
   "name": "python3"
  },
  "language_info": {
   "codemirror_mode": {
    "name": "ipython",
    "version": 3
   },
   "file_extension": ".py",
   "mimetype": "text/x-python",
   "name": "python",
   "nbconvert_exporter": "python",
   "pygments_lexer": "ipython3",
   "version": "3.8.5"
  }
 },
 "nbformat": 4,
 "nbformat_minor": 4
}
