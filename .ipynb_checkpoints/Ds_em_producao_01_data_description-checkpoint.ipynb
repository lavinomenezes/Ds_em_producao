{
 "cells": [
  {
   "cell_type": "markdown",
   "metadata": {},
   "source": [
    "# imports"
   ]
  },
  {
   "cell_type": "code",
   "execution_count": 1,
   "metadata": {
    "ExecuteTime": {
     "end_time": "2022-06-24T18:21:57.933279Z",
     "start_time": "2022-06-24T18:21:56.438139Z"
    }
   },
   "outputs": [],
   "source": [
    "import pandas as pd\n",
    "import numpy as np\n",
    "import inflection\n",
    "import math\n",
    "import seaborn as sns\n",
    "from matplotlib import pyplot as plt\n",
    "from IPython.core.display import HTML\n"
   ]
  },
  {
   "cell_type": "code",
   "execution_count": 2,
   "metadata": {
    "ExecuteTime": {
     "end_time": "2022-06-24T18:22:01.223507Z",
     "start_time": "2022-06-24T18:22:01.189601Z"
    }
   },
   "outputs": [
    {
     "name": "stdout",
     "output_type": "stream",
     "text": [
      "Populating the interactive namespace from numpy and matplotlib\n"
     ]
    },
    {
     "data": {
      "text/html": [
       "<style>.container { width:100% !important; }</style>"
      ],
      "text/plain": [
       "<IPython.core.display.HTML object>"
      ]
     },
     "metadata": {},
     "output_type": "display_data"
    }
   ],
   "source": [
    "def jupyter_settings():\n",
    "    %matplotlib inline\n",
    "    %pylab inline\n",
    "    plt.style.use( 'bmh' )\n",
    "    plt.rcParams['figure.figsize'] = [25, 12]\n",
    "    plt.rcParams['font.size'] = 24\n",
    "    display( HTML( '<style>.container { width:100% !important; }</style>') )\n",
    "    pd.options.display.max_columns = None\n",
    "    pd.options.display.max_rows = None\n",
    "    pd.set_option( 'display.expand_frame_repr', False )\n",
    "    sns.set()\n",
    "jupyter_settings()"
   ]
  },
  {
   "cell_type": "markdown",
   "metadata": {},
   "source": [
    "# load data"
   ]
  },
  {
   "cell_type": "code",
   "execution_count": 3,
   "metadata": {
    "ExecuteTime": {
     "end_time": "2022-06-24T18:22:05.280562Z",
     "start_time": "2022-06-24T18:22:04.515787Z"
    }
   },
   "outputs": [],
   "source": [
    "data_train = pd.read_csv('data/rossmann-store-sales/train.csv',low_memory=False)\n",
    "data_store = pd.read_csv('data/rossmann-store-sales/store.csv',low_memory=False)"
   ]
  },
  {
   "cell_type": "code",
   "execution_count": null,
   "metadata": {
    "ExecuteTime": {
     "start_time": "2022-06-24T18:22:08.024Z"
    },
    "scrolled": true
   },
   "outputs": [],
   "source": [
    "data_train"
   ]
  },
  {
   "cell_type": "markdown",
   "metadata": {},
   "source": [
    "**Merge the dataframes**"
   ]
  },
  {
   "cell_type": "code",
   "execution_count": 4,
   "metadata": {
    "ExecuteTime": {
     "end_time": "2022-06-24T18:20:56.652627Z",
     "start_time": "2022-06-24T18:20:56.175661Z"
    }
   },
   "outputs": [],
   "source": [
    "df_raw = data_train.merge(data_store,how='left',on='Store')"
   ]
  },
  {
   "cell_type": "code",
   "execution_count": null,
   "metadata": {
    "ExecuteTime": {
     "start_time": "2022-06-24T18:20:58.377Z"
    }
   },
   "outputs": [],
   "source": [
    "df_raw"
   ]
  },
  {
   "cell_type": "markdown",
   "metadata": {},
   "source": [
    "**dataset dimensions**"
   ]
  },
  {
   "cell_type": "code",
   "execution_count": null,
   "metadata": {
    "ExecuteTime": {
     "start_time": "2022-06-24T18:20:15.358Z"
    }
   },
   "outputs": [],
   "source": [
    "df_raw.shape"
   ]
  },
  {
   "cell_type": "markdown",
   "metadata": {
    "ExecuteTime": {
     "end_time": "2022-06-24T01:17:14.639348Z",
     "start_time": "2022-06-24T01:17:14.626385Z"
    }
   },
   "source": [
    "**Change the columns names to snakecase**"
   ]
  },
  {
   "cell_type": "code",
   "execution_count": null,
   "metadata": {
    "ExecuteTime": {
     "start_time": "2022-06-24T18:20:15.361Z"
    }
   },
   "outputs": [],
   "source": [
    "old_cols = df_raw.columns\n",
    "snakecase = lambda x: inflection.underscore(x)\n",
    "new_cols = list(map(snakecase,old_cols))\n",
    "df_raw.columns = new_cols"
   ]
  },
  {
   "cell_type": "code",
   "execution_count": null,
   "metadata": {
    "ExecuteTime": {
     "start_time": "2022-06-24T18:20:15.366Z"
    }
   },
   "outputs": [],
   "source": [
    "df_raw.head()"
   ]
  },
  {
   "cell_type": "markdown",
   "metadata": {},
   "source": [
    "# Checking data types"
   ]
  },
  {
   "cell_type": "code",
   "execution_count": null,
   "metadata": {
    "ExecuteTime": {
     "start_time": "2022-06-24T18:20:15.370Z"
    }
   },
   "outputs": [],
   "source": [
    "df_raw.dtypes"
   ]
  },
  {
   "cell_type": "markdown",
   "metadata": {},
   "source": [
    "**Change the 'date' column to datetype**"
   ]
  },
  {
   "cell_type": "code",
   "execution_count": null,
   "metadata": {
    "ExecuteTime": {
     "start_time": "2022-06-24T18:20:15.374Z"
    }
   },
   "outputs": [],
   "source": [
    "df_raw['date'] = pd.to_datetime(df_raw['date'])"
   ]
  },
  {
   "cell_type": "code",
   "execution_count": null,
   "metadata": {
    "ExecuteTime": {
     "start_time": "2022-06-24T18:20:15.379Z"
    }
   },
   "outputs": [],
   "source": [
    "df_raw['date']"
   ]
  },
  {
   "cell_type": "markdown",
   "metadata": {},
   "source": [
    "# Checking NA values"
   ]
  },
  {
   "cell_type": "code",
   "execution_count": null,
   "metadata": {
    "ExecuteTime": {
     "start_time": "2022-06-24T18:20:15.382Z"
    }
   },
   "outputs": [],
   "source": [
    "(df_raw.isnull().sum()/len(df_raw))*100"
   ]
  },
  {
   "cell_type": "markdown",
   "metadata": {},
   "source": [
    "## Filling NA values"
   ]
  },
  {
   "cell_type": "code",
   "execution_count": null,
   "metadata": {
    "ExecuteTime": {
     "start_time": "2022-06-24T18:20:15.388Z"
    }
   },
   "outputs": [],
   "source": [
    "df1 = df_raw.copy()"
   ]
  },
  {
   "cell_type": "markdown",
   "metadata": {
    "ExecuteTime": {
     "end_time": "2022-06-24T01:34:13.904558Z",
     "start_time": "2022-06-24T01:34:13.890596Z"
    }
   },
   "source": [
    "### copetitition distance"
   ]
  },
  {
   "cell_type": "code",
   "execution_count": null,
   "metadata": {
    "ExecuteTime": {
     "start_time": "2022-06-24T18:20:15.391Z"
    }
   },
   "outputs": [],
   "source": [
    "# competition distance\n",
    "\n",
    "dist = lambda x: 200000.0 if math.isnan(x) else x\n",
    "df1['competition_distance'] = df1['competition_distance'].apply(dist)\n",
    "\n",
    "# competition_open_since_month   \n",
    "comp_op_sin_mon = lambda x: x['date'].month if math.isnan(x['competition_open_since_month']) else x['competition_open_since_month']\n",
    "df1['competition_open_since_month'] = df1.apply(comp_op_sin_mon,axis=1)\n",
    "# competition_open_since_year    \n",
    "comp_op_sin_year = lambda x: x['date'].year if math.isnan(x['competition_open_since_year']) else x['competition_open_since_year']\n",
    "df1['competition_open_since_year'] = df1.apply(comp_op_sin_year,axis=1)\n",
    "\n",
    "# promo2                         \n",
    "# promo2_since_week\n",
    "prom_week = lambda x: x['date'].week if math.isnan(x['promo2_since_week']) else x['promo2_since_week']\n",
    "df1['promo2_since_week'] = df1.apply(prom_week,axis=1)\n",
    "\n",
    "# promo2_since_year       \n",
    "prom_year = lambda x: x['date'].year if math.isnan(x['promo2_since_year']) else x['promo2_since_year']\n",
    "df1['promo2_since_year'] = df1.apply(prom_year,axis=1)\n",
    "\n",
    "# promo_interval\n",
    "month_map = {1: 'Jan', 2:'Feb', 3:'Mar', 4:'Apr', 5:'May', 6:'Jun', 7:'Jul', 8:'Aug', 9:'Sept', 10:'Oct', 11:'Nov',12:'Dec'}\n",
    "df1['promo_interval'].fillna(0,inplace=True)\n",
    "df1['month_map'] = df1['date'].dt.month.replace(month_map)\n",
    "prom_int = lambda x: 0 if x['promo_interval'] == 0 else 1 if x['month_map'] in x['promo_interval'].split(',') else 0\n",
    "df1['is_promo'] = df1[['promo_interval','month_map']].apply(prom_int,axis=1)"
   ]
  },
  {
   "cell_type": "code",
   "execution_count": null,
   "metadata": {
    "ExecuteTime": {
     "start_time": "2022-06-24T18:20:15.394Z"
    }
   },
   "outputs": [],
   "source": [
    "(df1.isnull().sum()/len(df1))*100"
   ]
  },
  {
   "cell_type": "markdown",
   "metadata": {},
   "source": [
    "# Rechecking data types"
   ]
  },
  {
   "cell_type": "code",
   "execution_count": null,
   "metadata": {
    "ExecuteTime": {
     "start_time": "2022-06-24T18:20:15.396Z"
    }
   },
   "outputs": [],
   "source": [
    "df1.dtypes"
   ]
  },
  {
   "cell_type": "code",
   "execution_count": null,
   "metadata": {
    "ExecuteTime": {
     "start_time": "2022-06-24T18:20:15.398Z"
    }
   },
   "outputs": [],
   "source": [
    "df1['competition_open_since_month'] = df1['competition_open_since_month'].astype(int)\n",
    "df1['competition_open_since_year'] = df1['competition_open_since_year'].astype(int)\n",
    "df1['promo2_since_week'] = df1['promo2_since_week'].astype(int)\n",
    "df1['promo2_since_year'] = df1['promo2_since_year'].astype(int)"
   ]
  },
  {
   "cell_type": "markdown",
   "metadata": {},
   "source": [
    "# Descriptive Statistical"
   ]
  },
  {
   "cell_type": "code",
   "execution_count": null,
   "metadata": {
    "ExecuteTime": {
     "start_time": "2022-06-24T18:20:15.401Z"
    }
   },
   "outputs": [],
   "source": [
    "num_attribures = df1.select_dtypes(include=['int64','int32','float64'])\n",
    "cat_attribures = df1.select_dtypes(exclude=['int64','int32','float64','datetime64[ns]'])"
   ]
  },
  {
   "cell_type": "code",
   "execution_count": null,
   "metadata": {
    "ExecuteTime": {
     "start_time": "2022-06-24T18:20:15.404Z"
    },
    "scrolled": true
   },
   "outputs": [],
   "source": [
    "# Central tendency - mean, median\n",
    "ct1 = pd.DataFrame(num_attribures.apply(np.mean)).T\n",
    "ct2 = pd.DataFrame(num_attribures.apply(np.median)).T\n",
    "\n",
    "#dispersion - std,min,max,range,skew,kurtosis\n",
    "d1 = pd.DataFrame(num_attribures.apply(np.std)).T\n",
    "d2 = pd.DataFrame(num_attribures.apply(min)).T\n",
    "d3 = pd.DataFrame(num_attribures.apply(max)).T\n",
    "d4 = pd.DataFrame(num_attribures.apply(lambda x: x.max() - x.min())).T\n",
    "d5 = pd.DataFrame(num_attribures.apply(lambda x:x.skew())).T\n",
    "d6 = pd.DataFrame(num_attribures.apply(lambda x:x.kurtosis())).T\n",
    "\n",
    "n = pd.concat([d2,d3,d4,ct1,ct2,d1,d5,d6]).T.reset_index()\n",
    "n.columns = ['attibutes','min','max','range','mean','median','std','skew','kurtosis']\n",
    "n"
   ]
  },
  {
   "cell_type": "code",
   "execution_count": null,
   "metadata": {
    "ExecuteTime": {
     "start_time": "2022-06-24T18:20:15.407Z"
    }
   },
   "outputs": [],
   "source": [
    "cat_attribures.apply(lambda x: x.unique().shape[0])"
   ]
  },
  {
   "cell_type": "code",
   "execution_count": null,
   "metadata": {
    "ExecuteTime": {
     "start_time": "2022-06-24T18:20:15.410Z"
    }
   },
   "outputs": [],
   "source": [
    "aux = df1[(df1['state_holiday'] !=0) & df1['sales']>0]\n",
    "\n",
    "plt.subplots(1,3,1)\n",
    "sns.boxplot(x='state_holiday',y='sales',data=aux)\n",
    "plt.subplots(1,3,2)\n",
    "sns.boxplot(x='state_h',y='sales',data=aux)\n",
    "plt.subplots(1,3,3)\n",
    "sns.boxplot(x='state_holiday',y='sales',data=aux)"
   ]
  }
 ],
 "metadata": {
  "kernelspec": {
   "display_name": "Python 3",
   "language": "python",
   "name": "python3"
  },
  "language_info": {
   "codemirror_mode": {
    "name": "ipython",
    "version": 3
   },
   "file_extension": ".py",
   "mimetype": "text/x-python",
   "name": "python",
   "nbconvert_exporter": "python",
   "pygments_lexer": "ipython3",
   "version": "3.8.5"
  }
 },
 "nbformat": 4,
 "nbformat_minor": 4
}
